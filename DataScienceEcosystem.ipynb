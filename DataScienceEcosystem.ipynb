{
 "cells": [
  {
   "cell_type": "markdown",
   "id": "f472e74c-d2a1-4c73-8da3-d7c1eea1402a",
   "metadata": {},
   "source": [
    "# H1: Data Science Tools"
   ]
  },
  {
   "cell_type": "markdown",
   "id": "a8da74bd-75de-4371-aea0-01eff3ce5564",
   "metadata": {},
   "source": [
    " In this notebook, Data Scince Tools and Ecosystem are summarized\n",
    " "
   ]
  },
  {
   "cell_type": "markdown",
   "id": "dbc936d4-be02-4d5d-9adf-8009f2aa8077",
   "metadata": {},
   "source": [
    "**Objectives**\n",
    "* Creating Markdown cells\n",
    "* Add comments to code cells\n",
    "* Add ordered lists to markdown cell\n",
    "* Add boullets lists\n",
    "* Using different format of heading styles "
   ]
  },
  {
   "cell_type": "markdown",
   "id": "7f5bc966-3aad-4582-9da9-6ca5423de1fe",
   "metadata": {},
   "source": [
    " some of the popular languages that Data Scientists use are:\n",
    " \n",
    " 1. Python\n",
    " 2. Java\n",
    " 3. R\n",
    " 4. PHP\n",
    " 5. Ruby\n",
    "        "
   ]
  },
  {
   "cell_type": "markdown",
   "id": "4221a813-42ff-471e-9b9c-2d69d0c2a390",
   "metadata": {},
   "source": [
    "Some of the commonly used libraries used by Data Scientists includes:\n",
    "\n",
    "1. PyTorch\n",
    "2. Pandas\n",
    "3. Apache Spark\n",
    "4. TensorFlow\n",
    "\n"
   ]
  },
  {
   "cell_type": "markdown",
   "id": "a5882af7-2d39-410d-a402-733672851d01",
   "metadata": {},
   "source": [
    "| Data Sciences Tools |\n",
    "|---------------------|\n",
    "| Jupyter Notbooks |\n",
    "|R Studio |\n",
    "|Annaconda |\n",
    "|Spyder |"
   ]
  },
  {
   "cell_type": "markdown",
   "id": "e4acc5a3-ff41-4a7e-ae22-c9a225816d26",
   "metadata": {},
   "source": [
    "# H3: Below are a few examle of evaluating arithmetic expressions in python."
   ]
  },
  {
   "cell_type": "code",
   "execution_count": 2,
   "id": "c52ba01b-9337-4e6e-b1bb-7e847bc00b0d",
   "metadata": {
    "tags": []
   },
   "outputs": [
    {
     "data": {
      "text/plain": [
       "17"
      ]
     },
     "execution_count": 2,
     "metadata": {},
     "output_type": "execute_result"
    }
   ],
   "source": [
    "# This a simple arithmetic expression to multiply then add integers.\n",
    "(3*4)+5"
   ]
  },
  {
   "cell_type": "code",
   "execution_count": 3,
   "id": "a6fda89a-b507-4f26-9159-d8d19b4ce5eb",
   "metadata": {
    "tags": []
   },
   "outputs": [
    {
     "data": {
      "text/plain": [
       "3.3333333333333335"
      ]
     },
     "execution_count": 3,
     "metadata": {},
     "output_type": "execute_result"
    }
   ],
   "source": [
    "# this will convert 200 minutes to hours by dividing by 60.\n",
    "200/60"
   ]
  },
  {
   "cell_type": "markdown",
   "id": "375351e0-e93e-43fb-bba2-20c3527d70c5",
   "metadata": {},
   "source": [
    "# H2: Author' name:\n",
    "Parvin Jalali"
   ]
  },
  {
   "cell_type": "code",
   "execution_count": null,
   "id": "d5384bb6-c141-4ac4-bd8c-1919d23340da",
   "metadata": {},
   "outputs": [],
   "source": []
  }
 ],
 "metadata": {
  "kernelspec": {
   "display_name": "Python",
   "language": "python",
   "name": "conda-env-python-py"
  },
  "language_info": {
   "codemirror_mode": {
    "name": "ipython",
    "version": 3
   },
   "file_extension": ".py",
   "mimetype": "text/x-python",
   "name": "python",
   "nbconvert_exporter": "python",
   "pygments_lexer": "ipython3",
   "version": "3.7.12"
  }
 },
 "nbformat": 4,
 "nbformat_minor": 5
}
